{
  "nbformat": 4,
  "nbformat_minor": 0,
  "metadata": {
    "colab": {
      "provenance": [],
      "include_colab_link": true
    },
    "kernelspec": {
      "name": "python3",
      "display_name": "Python 3"
    },
    "language_info": {
      "name": "python"
    }
  },
  "cells": [
    {
      "cell_type": "markdown",
      "metadata": {
        "id": "view-in-github",
        "colab_type": "text"
      },
      "source": [
        "<a href=\"https://colab.research.google.com/github/Bustagar/APRENDIZAJE-AUTOMATICO-1/blob/main/TP2_AA1_aprendizaje_no_supervisado(Resuelto).ipynb\" target=\"_parent\"><img src=\"https://colab.research.google.com/assets/colab-badge.svg\" alt=\"Open In Colab\"/></a>"
      ]
    },
    {
      "cell_type": "markdown",
      "source": [
        "# TP2 AA1 Aprendizaje no supervisado\n",
        "\n",
        "**Escriba aquí su nombre completo**"
      ],
      "metadata": {
        "id": "t4CxvZXx6Dmy"
      }
    },
    {
      "cell_type": "markdown",
      "source": [
        "## Indicaciones básicas\n",
        "\n",
        "0) Debe usar este notebook como template para su entrega. Haga una copia y comience a completar las consignas.\n",
        "\n",
        "1) Cada uno debe completar las consignas indicadas en este notebook.\n",
        "\n",
        "2)\n",
        "3) No pueden repetir el mismo dataset que ya haya definido un compañero.\n",
        "\n",
        "4) copias explícitas de secciones enteras del trabajo de otro será penalizado disminuyendo su puntuación.\n",
        "\n",
        "5) No se olvide de añadir las fuentes de inspiración de su código (blogs, prompts de chatgpt o similar).\n",
        "\n",
        "6) Además de todo el código que agregue, es importante que sepa interpretarlo. Agregue texto explicativo en cada sección. Esto le ayudará al momento del coloquio / parcial\n",
        "\n",
        "7) Revise las fecha límite de entrega de este trabajo"
      ],
      "metadata": {
        "id": "BSeucmV-KLmJ"
      }
    },
    {
      "cell_type": "markdown",
      "source": [
        "# ENTREGA"
      ],
      "metadata": {
        "id": "0qigDO5T90h-"
      }
    },
    {
      "cell_type": "markdown",
      "source": [
        "* En el foro destinado a la tarea debe postear al menos tres veces:\n",
        "  - La primera vez para indicar el dataset elegido\n",
        "  - Una segunda vez para postear su entrega\n",
        "  - Una tercera vez para brindar feedback a alguien más en el foro.\n",
        "  - Puede comentar más de un posteo de sus compañeros siempre y cuando el intercambio sea respetuoso y fructífero.\n",
        "* Deben postear como solución un enlace a su notebook colab público y también un enlace al mismo notebook alojado en su repositorio GitHub.\n",
        "* Debe sumar el enlace a un video donde muestre su solución y explique lo realizado. Duración máxima: 5 minutos. Puede grabarse a Ud. mismo usando una sesión de zoom y grabar localmente. Puede subir el video a su youtube personal como privado o Unlisted.\n",
        "* Enlaces no accesibles o enlaces erróneos es igual a determinar que la tarea no ha sido entregada. Corrobore la viabilidad de los enlaces que postea.\n"
      ],
      "metadata": {
        "id": "N4Uno_w694De"
      }
    },
    {
      "cell_type": "markdown",
      "source": [
        "#**Tarea: Aplicación de clustering y reducción de dimensionalidad**  \n",
        "**Objetivo**: Aplicar un modelo de regresión lineal a un dataset de su elección, evaluar su rendimiento e identificar las variables más relevantes para la predicción.\n",
        "\n",
        "---\n",
        "\n",
        "# **Instrucciones**:\n",
        "\n",
        "#1. **Selección del Dataset**  \n",
        "   - Elijan un dataset de UCI ML Repository del siguiente enlace: https://archive.ics.uci.edu/datasets?Task=Clustering&skip=130&take=10&sort=desc&orderBy=Relevance&search=\n",
        "   - Requisitos:  \n",
        "     - Debe tener al menos 4 variables numéricas continuas.  \n",
        "     - Idealmente, que las features tengan distintas escalas o unidades ( no excluyente).\n",
        "     - Revisar en el foro de la tarea que dicho dataset no haya sido ya elegido por otra persona.\n",
        "     - Postee en el foro de la tarea el dataset que eligió. Continue al siguiente punto.  \n",
        "\n"
      ],
      "metadata": {
        "id": "7WAej0Lx6D91"
      }
    },
    {
      "cell_type": "markdown",
      "source": [
        "## Resolución:"
      ],
      "metadata": {
        "id": "rTJxJxW28FMc"
      }
    },
    {
      "cell_type": "markdown",
      "source": [],
      "metadata": {
        "id": "JvjM5Tf9_Q4f"
      }
    },
    {
      "cell_type": "code",
      "source": [],
      "metadata": {
        "id": "gq7zciB78FvY"
      },
      "execution_count": null,
      "outputs": []
    },
    {
      "cell_type": "markdown",
      "source": [
        "\n",
        "## 2. **Análisis exploratorio (previo al modelado)**  \n",
        "   - Describan las variables (media, distribución, outliers).  \n",
        "   - Visualizen:  \n",
        "     - Histogramas o boxplots para ver distribuciones.  \n",
        "     - Gráficos de dispersión (scatterplots) entre features y target.  \n",
        "   - Describan si observan o no relaciones entre algunas variables.  \n"
      ],
      "metadata": {
        "id": "UWnCaDQP7bbO"
      }
    },
    {
      "cell_type": "markdown",
      "source": [],
      "metadata": {
        "id": "lGBS5lxg8LqR"
      }
    },
    {
      "cell_type": "markdown",
      "source": [
        "## Resolución:"
      ],
      "metadata": {
        "id": "j5j6RRR4_UHg"
      }
    },
    {
      "cell_type": "markdown",
      "source": [],
      "metadata": {
        "id": "vZBsHZRO_UHh"
      }
    },
    {
      "cell_type": "code",
      "source": [],
      "metadata": {
        "id": "9xMXweis_UHh"
      },
      "execution_count": null,
      "outputs": []
    },
    {
      "cell_type": "code",
      "source": [],
      "metadata": {
        "id": "4kP9F8YX8LEe"
      },
      "execution_count": null,
      "outputs": []
    },
    {
      "cell_type": "markdown",
      "source": [
        "## 3. **Preprocesamiento**  \n",
        "   - Limpieza: Manejen missing values (eliminar, imputar) y outliers (si es necesario).  \n",
        "   - Limpieza: indique cuáles features descarta. Justifique.\n",
        "   - Indique si usará o no variables categóricas. Justifique. Realice su preprocesamiento adeucado.\n",
        "   - El objetivo de este paso es quedar con variables todas numéricas y en la misma escala."
      ],
      "metadata": {
        "id": "A1Ajkh2O70cd"
      }
    },
    {
      "cell_type": "markdown",
      "source": [],
      "metadata": {
        "id": "y7sVuQOm76ix"
      }
    },
    {
      "cell_type": "markdown",
      "source": [
        "## Resolución:"
      ],
      "metadata": {
        "id": "28o4EfDd_WQg"
      }
    },
    {
      "cell_type": "markdown",
      "source": [],
      "metadata": {
        "id": "a7qdTaxy_WQg"
      }
    },
    {
      "cell_type": "code",
      "source": [],
      "metadata": {
        "id": "On_Ef-tt_WQi"
      },
      "execution_count": null,
      "outputs": []
    },
    {
      "cell_type": "markdown",
      "source": [],
      "metadata": {
        "id": "qYg_F-1e_Vro"
      }
    },
    {
      "cell_type": "code",
      "source": [],
      "metadata": {
        "id": "9KJo1rKe768q"
      },
      "execution_count": null,
      "outputs": []
    },
    {
      "cell_type": "markdown",
      "source": [
        "\n",
        "\n",
        "\n",
        "## 4. **Clustering**  \n",
        "   "
      ],
      "metadata": {
        "id": "8z3BaKBi70w2"
      }
    },
    {
      "cell_type": "markdown",
      "source": [
        "En este apartado aplicará clustering sobre los datos obtenidos del paso 3)"
      ],
      "metadata": {
        "id": "r1TUO4F8VMLr"
      }
    },
    {
      "cell_type": "markdown",
      "source": [
        "### 4.1 -  K-means\n",
        "   - Determine el número ideal de clústers usando Silhoutte Score.\n",
        "   - Aplique K-means sobre los datos procesados del grupo anterior.\n",
        "   "
      ],
      "metadata": {
        "id": "A6c5Cm6-THtx"
      }
    },
    {
      "cell_type": "markdown",
      "source": [],
      "metadata": {
        "id": "rikY9bTOZIdR"
      }
    },
    {
      "cell_type": "code",
      "source": [],
      "metadata": {
        "id": "qRyxmspU9YMo"
      },
      "execution_count": null,
      "outputs": []
    },
    {
      "cell_type": "markdown",
      "source": [],
      "metadata": {
        "id": "ww_oSBfqTBBs"
      }
    },
    {
      "cell_type": "markdown",
      "source": [],
      "metadata": {
        "id": "6ze4WFvdZJeS"
      }
    },
    {
      "cell_type": "markdown",
      "source": [
        "### 4.2 Análisis intra-clúster\n",
        "\n",
        "Para el modelo de K-means con el valor de k (número de clústeres) ideal, analice los datos que pertenecen a cada clústers. ¿Cuáles son sus características / distribución? Puede usar gráficas como box-plots"
      ],
      "metadata": {
        "id": "IFmd2bPZTXpP"
      }
    },
    {
      "cell_type": "markdown",
      "source": [],
      "metadata": {
        "id": "N1W-7BxyTwVT"
      }
    },
    {
      "cell_type": "code",
      "source": [],
      "metadata": {
        "id": "Ae-XsYAATwnN"
      },
      "execution_count": null,
      "outputs": []
    },
    {
      "cell_type": "markdown",
      "source": [
        "## 5- Reducción de dimensionalidad"
      ],
      "metadata": {
        "id": "2jeYUeYRUCpK"
      }
    },
    {
      "cell_type": "markdown",
      "source": [
        "### 5.1 Aplicar PCA o t-SNE para reducir la dimensionalidad a 2D/3D y visualizar los datos"
      ],
      "metadata": {
        "id": "T_EtuciQVCZ4"
      }
    },
    {
      "cell_type": "markdown",
      "source": [],
      "metadata": {
        "id": "vWvwDaJ_VdR2"
      }
    },
    {
      "cell_type": "code",
      "source": [],
      "metadata": {
        "id": "jioKWLRsVdgV"
      },
      "execution_count": null,
      "outputs": []
    },
    {
      "cell_type": "markdown",
      "source": [
        "### 5.2 Clustering sobre datos reducidos\n",
        "\n",
        "Aplicar clustering K-means sobre el dataset obtenido en 5.1. Realice los mismos pasos y análisis que realizó para el punto 4) pero con este dataset reducido."
      ],
      "metadata": {
        "id": "IJwxj1LpVhgf"
      }
    },
    {
      "cell_type": "markdown",
      "source": [],
      "metadata": {
        "id": "lN-SlrY0V4oq"
      }
    },
    {
      "cell_type": "code",
      "source": [],
      "metadata": {
        "id": "HpSsFQLaV5HB"
      },
      "execution_count": null,
      "outputs": []
    },
    {
      "cell_type": "markdown",
      "source": [
        "## 6- Conclusiones\n",
        "\n",
        "Escriba sus conclusiones comparando los resultados y experiencia entre aplicar clustering a todo el dataset vs al dataset reducido.\n",
        "\n",
        "Discutir:\n",
        "\n",
        "* ¿ Los clústeres se corresponden con clases reales ( si las hay)?\n",
        "* ¿ La reducción de dimensionalidad mejoró o empeoró el desempeño del clustering?\n",
        "\n",
        "Fundamente, justifique con sus palabras."
      ],
      "metadata": {
        "id": "xoE8ruwmV50a"
      }
    },
    {
      "cell_type": "markdown",
      "source": [],
      "metadata": {
        "id": "W1lmQVQcWorv"
      }
    },
    {
      "cell_type": "markdown",
      "source": [
        "# 7- Bonus: elija una de las siguientes consignas para resolver.\n",
        "\n"
      ],
      "metadata": {
        "id": "GNX2zdbS9cch"
      }
    },
    {
      "cell_type": "markdown",
      "source": [
        "## 7.1 Aplicar DBSCAN sobre su dataset.\n",
        "\n",
        "Aplique clustering con DBSCAN sobre su dataset en ambas versiones: el dataset completo y reducido (PCA o t-SNE). Evalue los resultados."
      ],
      "metadata": {
        "id": "AZKSEsmmYQfY"
      }
    },
    {
      "cell_type": "markdown",
      "source": [],
      "metadata": {
        "id": "Ngf3HE_dYWgd"
      }
    },
    {
      "cell_type": "code",
      "source": [],
      "metadata": {
        "id": "JNrYwJ9WYW3g"
      },
      "execution_count": null,
      "outputs": []
    },
    {
      "cell_type": "markdown",
      "source": [
        "## 7.2 Análisis de outliers\n",
        "\n",
        "- Usar DBSCAN para detectar los outliers en su dataset.\n",
        "- Reducir la dimensionalidad y verificar si los outliers son identificables visualmente en 2D/3D.\n",
        "- Escriba sus reflexiones: ¿ los outliers forman un clúster propio? ¿PCA / t-SNE preserva las anomalías?"
      ],
      "metadata": {
        "id": "Chr25XGvXlSt"
      }
    },
    {
      "cell_type": "markdown",
      "source": [],
      "metadata": {
        "id": "okXUU4PrYXeQ"
      }
    },
    {
      "cell_type": "code",
      "source": [],
      "metadata": {
        "id": "Xk7E48UV9Y6t"
      },
      "execution_count": null,
      "outputs": []
    },
    {
      "cell_type": "markdown",
      "source": [
        "# Referencias\n",
        "\n",
        "Mencione los recursos utilizados"
      ],
      "metadata": {
        "id": "4ZvMj3P89Z4R"
      }
    }
  ]
}